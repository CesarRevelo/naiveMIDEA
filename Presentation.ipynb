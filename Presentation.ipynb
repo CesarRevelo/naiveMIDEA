{
 "metadata": {
  "name": "",
  "signature": "sha256:66f9870fd0cc6836aafa1e9f93a6a54793e58bb7cb91730bc8920eeff3fe957a"
 },
 "nbformat": 3,
 "nbformat_minor": 0,
 "worksheets": [
  {
   "cells": [
    {
     "cell_type": "heading",
     "level": 3,
     "metadata": {},
     "source": [
      "$Load$ $Libraries$"
     ]
    },
    {
     "cell_type": "code",
     "collapsed": false,
     "input": [
      "from matplotlib.pylab import *\n",
      "\n",
      "import numpy as np\n",
      "import copy\n",
      "import transitions\n",
      "import array\n",
      "import random\n",
      "import time\n",
      "import json\n",
      "import matplotlib.colors as colors\n",
      "import matplotlib.pyplot as plt\n",
      "from matplotlib import figure\n",
      "from matplotlib import cm, animation\n",
      "from JSAnimation import IPython_display\n",
      "from IPython.display import Image\n",
      "from mpl_toolkits.axes_grid1 import host_subplot\n",
      "from mpl_toolkits.mplot3d import Axes3D\n",
      "\n",
      "import shapefunctions\n",
      "from operator import mul\n",
      "from deap import algorithms, base, creator, tools, benchmarks\n",
      "from deap.benchmarks.tools import diversity, convergence \n",
      "from hv import HyperVolume\n",
      "\n",
      "import problems\n",
      "import transitions\n",
      "import shapefunctions\n",
      "\n",
      "## naiveMIDEA libraries\n",
      "import bisect\n",
      "import collections\n",
      "from __future__ import division\n",
      "import fastcluster\n",
      "import math\n",
      "import numpy as np\n",
      "import random\n",
      "from collections import defaultdict\n",
      "from itertools import chain, repeat\n",
      "from math import sqrt\n",
      "from operator import attrgetter, itemgetter\n",
      "from scipy.cluster.vq import kmeans,vq\n",
      "from scipy.stats import norm\n",
      "\n",
      "%matplotlib inline"
     ],
     "language": "python",
     "metadata": {
      "internals": {
       "frag_helper": "fragment_end",
       "frag_number": 2,
       "slide_helper": "subslide_end",
       "slide_type": "subslide"
      },
      "slide_helper": "slide_end",
      "slideshow": {
       "slide_type": "slide"
      }
     },
     "outputs": [],
     "prompt_number": 2
    },
    {
     "cell_type": "heading",
     "level": 3,
     "metadata": {},
     "source": [
      "$Benchmark$ $Problem$ $Defining$"
     ]
    },
    {
     "cell_type": "code",
     "collapsed": false,
     "input": [
      "# Load Benchmark Problem\n",
      "problem = problems.WFG1\n",
      "\n",
      "# Functions zdt1, zdt2, zdt3 have 30 dimensions, zdt4 and zdt6 have 10, WFG1 have 6 dimensions\n",
      "NDIM = 6\n",
      "\n",
      "# Functions zdt1, zdt2, zdt3, zdt6 have bounds [0, 1]\n",
      "BOUND_LOW, BOUND_UP = 0.0, 1.0"
     ],
     "language": "python",
     "metadata": {
      "internals": {
       "frag_helper": "fragment_end",
       "frag_number": 2,
       "slide_type": "subslide"
      },
      "slideshow": {
       "slide_type": "slide"
      }
     },
     "outputs": [],
     "prompt_number": 3
    },
    {
     "cell_type": "heading",
     "level": 3,
     "metadata": {},
     "source": [
      "$Evolution$ $parameters$ $defining$ $(individuals$ $and$ $operators)$"
     ]
    },
    {
     "cell_type": "code",
     "collapsed": false,
     "input": [
      "creator.create(\"FitnessMin\", base.Fitness, weights=(-1.0, -1.0))\n",
      "creator.create(\"Individual\", array.array, typecode='d', fitness=creator.FitnessMin)\n",
      "toolbox = base.Toolbox()"
     ],
     "language": "python",
     "metadata": {
      "internals": {
       "frag_helper": "fragment_end",
       "frag_number": 2
      },
      "slideshow": {
       "slide_type": "-"
      }
     },
     "outputs": [],
     "prompt_number": 4
    },
    {
     "cell_type": "code",
     "collapsed": false,
     "input": [
      "def uniform(low, up, size=None):\n",
      "    try:\n",
      "        return [random.uniform(a, b) for a, b in zip(low, up)]\n",
      "    except TypeError:\n",
      "        return [random.uniform(a, b) for a, b in zip([low] * size, [up] * size)]\n",
      "\n",
      "toolbox.register(\"attr_float\", uniform, BOUND_LOW, BOUND_UP, NDIM)\n",
      "toolbox.register(\"individual\", tools.initIterate, creator.Individual, toolbox.attr_float)\n",
      "toolbox.register(\"population\", tools.initRepeat, list, toolbox.individual)\n",
      "toolbox.register(\"evaluate\", problem, k=2, l=4, M=2) # k=2, l=4, M=2 for WFG1\n",
      "#toolbox.register(\"evaluate\", problem)\n",
      "toolbox.register(\"select\", tools.selNSGA2)"
     ],
     "language": "python",
     "metadata": {
      "internals": {
       "frag_helper": "fragment_end",
       "frag_number": 2
      },
      "slideshow": {
       "slide_type": "-"
      }
     },
     "outputs": [],
     "prompt_number": 5
    },
    {
     "cell_type": "heading",
     "level": 3,
     "metadata": {},
     "source": [
      "$Selection$ $Operator$ $naiveMIDEA$"
     ]
    },
    {
     "cell_type": "code",
     "collapsed": false,
     "input": [
      "######################################\n",
      "# Selection Operator (naive MIDEA)   #\n",
      "######################################\n",
      "\n",
      "def selnaiveMIDEA(self,tau):\n",
      "    \"\"\"Apply naive MIDEA selection operator on the \"individuals\", the size\n",
      "    of return population will be larger than \"N*tau\", where \"tau\" is a selection\n",
      "    theresold parameter. A straightforward way to obtain selection pressure \n",
      "    toward non\u2013 dominated solutions is therefore to count for each solution in\n",
      "    the population the number of times it is dominated by another solution in the\n",
      "    population, which is called the domination count of a solution.\n",
      "    The \"N*tau\" list returned contains references to the input \"individuals\". \n",
      "    For more details on the naive MIDEA selection operator see [Bozman and Thierens 2006]_.\n",
      "    \n",
      "    :param self: A list of individuals to select from \"N\".\n",
      "    :param tau: threshold param for select population [0,1]  \n",
      "    :returns: A list of (tau*N) selected individuals.\n",
      "    \n",
      "    .. [Bosman and D. Thierens] Bosman and Thierens, \"Multi-objective \n",
      "       Optimization with the Naive MIDEA\",\n",
      "       StudFuzz 192, 123-157 (2006). Springer-Verlag Berlin Heidelberg 2006.\n",
      "    \"\"\"\n",
      "    \n",
      "    if len(self) == 0:\n",
      "       return []\n",
      "\n",
      "    def getKey(_item):\n",
      "        return _item[1]\n",
      "    \n",
      "    def Range_Samples(_Sp):\n",
      "        aux = [(ind.values) for ind in _Sp]\n",
      "        aux_Sp = np.asarray(aux)\n",
      "        f1_min = min(aux_Sp[::,0])\n",
      "        f1_max = max(aux_Sp[::,0])\n",
      "        f2_min = min(aux_Sp[::,1])\n",
      "        f2_max = max(aux_Sp[::,1])\n",
      "        md_f1 = (f1_max-f1_min)**2\n",
      "        md_f2 = (f2_max-f2_min)**2\n",
      "        return md_f1, md_f2\n",
      "\n",
      "    def scaledEuclideanDist(Sample1,Sample2,md_f1,md_f2):\n",
      "        value = (np.asarray(Sample1.values) - np.asarray(Sample2.values))**2\n",
      "        result = value[0]/md_f1 + value[1]/md_f2\n",
      "        return sqrt(result)\n",
      "    \n",
      "    def compNN_Dist(_Sp,_threshold):\n",
      "        md_f1,md_f2 = Range_Samples(_Sp)\n",
      "        S = list()\n",
      "        S.append(sorted(_Sp, reverse=True)[0])\n",
      "        del _Sp[0]  \n",
      "        while (len(S) <= _threshold):\n",
      "            NN_Dist = list()\n",
      "            for i in range(len(_Sp)):\n",
      "                dist = scaledEuclideanDist(S[-1],_Sp[i],md_f1,md_f2)\n",
      "                NN_Dist.append(dist)\n",
      "            ind_max = NN_Dist.index(max(NN_Dist)) \n",
      "            S.append(_Sp[ind_max])\n",
      "            del _Sp[ind_max]\n",
      "        return S\n",
      "\n",
      "    #Assign variables and constants\n",
      "    N = len(self)\n",
      "    threshold = int(np.floor(N*tau))\n",
      "    non_dom_count = 0\n",
      "    #chosen = []\n",
      "    dominating_fits = defaultdict(int)\n",
      "    \n",
      "    #Save index population \n",
      "    map_fit_ind = defaultdict(list)\n",
      "    for ind in self:\n",
      "        map_fit_ind[ind.fitness].append(ind)\n",
      "    fits = map_fit_ind.keys()\n",
      "    \n",
      "    #Assign Domination Count for each individual \n",
      "    for i, fit_i in enumerate(fits):\n",
      "        for fit_j in fits[i+1:]:\n",
      "            if fit_i.dominates(fit_j):\n",
      "                dominating_fits[fit_j] += 1\n",
      "            elif fit_j.dominates(fit_i):\n",
      "                dominating_fits[fit_i] += 1\n",
      "        if dominating_fits[fit_i] == 0:\n",
      "            non_dom_count +=1\n",
      "     \n",
      "    #Ordering individuals according to Domination Count Parameter \n",
      "    order_count = list()\n",
      "    for k in dominating_fits.keys():\n",
      "        value = dominating_fits[k]\n",
      "        order_count.append([k,value])\n",
      "    \n",
      "    order_count = sorted(order_count, key=getKey) \n",
      "    order_fits = list()\n",
      "    for i in range(len(order_count)):\n",
      "        order_fits.append(order_count[i][0])\n",
      "        \n",
      "    #MIDEA selection: case1 (#ND_Count <= tao*N), case2(#ND_Count > tao*N)\n",
      "    if non_dom_count <= threshold:\n",
      "        return map_fit_ind, order_fits[:threshold], threshold #return chosen\n",
      "    else:\n",
      "        indi = 0\n",
      "        while (order_count[indi][1] == 0):\n",
      "            indi += 1\n",
      "        Sp = order_fits[:indi]     \n",
      "        S = compNN_Dist(Sp,threshold)\n",
      "        return map_fit_ind, S, threshold "
     ],
     "language": "python",
     "metadata": {
      "internals": {
       "frag_helper": "fragment_end",
       "frag_number": 2
      },
      "slideshow": {
       "slide_type": "-"
      }
     },
     "outputs": [],
     "prompt_number": 6
    },
    {
     "cell_type": "heading",
     "level": 3,
     "metadata": {},
     "source": [
      "$MPD$ $Estimation$ $naiveMIDEA$"
     ]
    },
    {
     "cell_type": "code",
     "collapsed": false,
     "input": [
      "#######################################################\n",
      "# Estimate a MPD from select solutions (naive MIDEA)  #\n",
      "#######################################################\n",
      "\n",
      "def estMPDnMIDEA(self,tau, k):\n",
      "    \"\"\"Implementation of the naive MIDEA with normal pdfs,univariate\n",
      "    factorizations and clustering (using the k-Means algorithm).\n",
      "    The generation of new solutions is done by sampling the univariate\n",
      "    factorization after selecting a cluster to sample from. \n",
      "    For more details on the naive MIDEA selection operator see [Bozman and Thierens 2006]_.\n",
      "    \n",
      "    :param pop: A list of individuals to select from \"N\".\n",
      "    :param tau: threshold param for select population [0,1]   \n",
      "    :param k: number of clusters \n",
      "    :returns: A list of N individuals (tau*N + (N-tau*N)) selected individuals.\n",
      "    \n",
      "    .. [Bosman and D. Thierens] Bosman and Thierens, \"Multi-objective \n",
      "       Optimization with the Naive MIDEA\",\n",
      "       StudFuzz 192, 123-157 (2006). Springer-Verlag Berlin Heidelberg 2006.\n",
      "    \"\"\"\n",
      "    size_pop = len(self) \n",
      "    if (size_pop == 0) or ((size_pop*tau) < k):\n",
      "       return []\n",
      "    \n",
      "    #Normalization is done with respect to the range of the\n",
      "    #samples in the solution vector in each dimension.\n",
      "    def scaling(vec):\n",
      "        scaled_vec = copy.deepcopy(vec)\n",
      "        f1_min = min(scaled_vec[::,0])\n",
      "        f1_max = max(scaled_vec[::,0])\n",
      "        f2_min = min(scaled_vec[::,1])\n",
      "        f2_max = max(scaled_vec[::,1])\n",
      "        for i in range(len(scaled_vec)):\n",
      "            scaled_vec[i][0] = vec[i][0]/(f1_max - f1_min)\n",
      "            scaled_vec[i][1] = vec[i][1]/(f2_max - f2_min)\n",
      "        return scaled_vec\n",
      "    \n",
      "    #Select a factorization based on the mixing coefficients\n",
      "    def choose_indx(mix_coef):\n",
      "        r = random.random()\n",
      "        index = 0\n",
      "        while(r >= 0 and index < len(mix_coef)):\n",
      "            r -= mix_coef[index]\n",
      "            index += 1\n",
      "        return index - 1\n",
      "\n",
      "    #Estimates the parameters of a single conditional\n",
      "    #factorization in a single cluster.\n",
      "    def estimate_PDF(rand_var):\n",
      "        mu = np.mean(rand_var) \n",
      "        sig = np.std(rand_var)\n",
      "        return mu,sig\n",
      "    \n",
      "    #Returns a random, Gaussian (\"normally\") distributed\n",
      "    #value with mean \"mu\" and standard deviation \"sigma\".\n",
      "    def draw_from_PDF(parameters):\n",
      "        mean = parameters[0]\n",
      "        sdev = parameters[1]\n",
      "        aux = random.normalvariate(mean, sdev)\n",
      "        while math.fabs(aux) > 1:\n",
      "            aux = random.normalvariate(mean, sdev)\n",
      "        return math.fabs(aux)\n",
      "        \n",
      "    cluster1 = []\n",
      "    cluster2 = []\n",
      "    cluster3 = []\n",
      "    cluster4 = []\n",
      "    \n",
      "    population = [] #population final\n",
      "    pareto_sel = [] #N*tao pareto sel\n",
      "    clusters_OS = [[] for i in repeat(None, k)] #clusters list (objective space)\n",
      "    clusters_DS = [[] for i in repeat(None, k)] #clusters list (decision space)\n",
      "    PDF_est = [[] for i in repeat(None, k)] #PDF estimations for Pi,j(Zj)\n",
      "    mix_coeff = [] #mixing coefficients which the mixture components are weighted\n",
      "    \n",
      "    #Selection(tau*N) individuals\n",
      "    indices, chosen, threshold = selnaiveMIDEA(self,tau)\n",
      "    \n",
      "    #K-Means clustering algorithm (indices computing)  \n",
      "    solutions = []\n",
      "    solutions = np.asarray([ind.values for ind in chosen]) #(tau*N)solutions \n",
      "    data = scaling(solutions) #scaling for each objective\n",
      "    centroids,_ = kmeans(data,k) #computing K-Means with k clusters\n",
      "    idx,_ = vq(data,centroids) #assign indices to scaled dada   \n",
      "    \n",
      "    #Assign solutions to each cluster and estimates the final parameters of \n",
      "    #a single conditional factorizations for each cluster    \n",
      "    aux = []\n",
      "    for i in range(k):\n",
      "        aux = [solutions[idx==i,0],solutions[idx==i,1]]\n",
      "        cluster_OS = [[fila[j] for fila in aux] for j in range(len(aux[0]))]\n",
      "        clusters_OS[i].extend(cluster_OS) #Objective Space\n",
      "        mix_coeff.append(1/k)#(len(cluster_OS)/threshold)\n",
      "        cluster_DS = []\n",
      "        for fit in clusters_OS[i]:\n",
      "            clusters_DS[i].extend(indices[creator.FitnessMin(fit)]) #Decision Space\n",
      "        cluster_DS = [[fila[j] for fila in clusters_DS[i]] for j in range(len(clusters_DS[i][0]))]\n",
      "        for dim in range(len(cluster_DS)):\n",
      "            PDF_est[i].extend([estimate_PDF(cluster_DS[dim])])\n",
      "\n",
      "    population = []\n",
      "    #Copy the top tau*N best samples to the population\n",
      "    for fit in solutions:\n",
      "        population.extend(indices[creator.FitnessMin(fit)])\n",
      "        #pareto_sel.extend(indices[creator.FitnessMin(fit)])\n",
      "    \n",
      "    for fit in solutions:\n",
      "        pareto_sel.extend(indices[creator.FitnessMin(fit)])\n",
      "    \n",
      "    #Fill the remainder of the N - tau*N positions in the offspring list\n",
      "    while (len(population) < size_pop):\n",
      "        cluster = choose_indx(mix_coeff)\n",
      "        aux = []\n",
      "        aux = copy.deepcopy(self[0])\n",
      "        for var in range(len(PDF_est[cluster])):\n",
      "            aux[var] = draw_from_PDF(PDF_est[cluster][var])\n",
      "        population.append(aux)\n",
      "    \n",
      "    for ind in population:\n",
      "        del ind.fitness.values\n",
      "       \n",
      "    for fit in clusters_OS[0]:\n",
      "        cluster1.extend(indices[creator.FitnessMin(fit)])\n",
      "    \n",
      "    for fit in clusters_OS[1]:\n",
      "        cluster2.extend(indices[creator.FitnessMin(fit)])\n",
      "        \n",
      "    for fit in clusters_OS[2]:\n",
      "        cluster3.extend(indices[creator.FitnessMin(fit)])\n",
      "\n",
      "    for fit in clusters_OS[3]:\n",
      "        cluster4.extend(indices[creator.FitnessMin(fit)])\n",
      "\n",
      "    return population, pareto_sel, clusters_OS, clusters_DS, PDF_est#population#, pareto_sel, clusters_OS, clusters_DS, PDF_est"
     ],
     "language": "python",
     "metadata": {},
     "outputs": [],
     "prompt_number": 7
    },
    {
     "cell_type": "heading",
     "level": 3,
     "metadata": {},
     "source": [
      "$MPD$ $Plot$ $Function$"
     ]
    },
    {
     "cell_type": "code",
     "collapsed": false,
     "input": [
      "def plot_normal_sample(sample, mu, sigma):\n",
      "    'Plots an histogram and the normal distribution corresponding to the parameters.'\n",
      "    x = np.linspace(mu - 4*sigma, mu + 4*sigma, 100)\n",
      "    plt.plot(x, norm.pdf(x, mu, sigma), 'r', lw=2)\n",
      "    plt.hist(sample, 30, normed=True, alpha=0.2)"
     ],
     "language": "python",
     "metadata": {
      "internals": {
       "frag_helper": "fragment_end",
       "frag_number": 15,
       "slide_helper": "subslide_end"
      },
      "slide_helper": "slide_end",
      "slideshow": {
       "slide_type": "-"
      }
     },
     "outputs": [],
     "prompt_number": 8
    },
    {
     "cell_type": "markdown",
     "metadata": {
      "internals": {
       "slide_helper": "subslide_end",
       "slide_type": "subslide"
      },
      "slide_helper": "slide_end",
      "slideshow": {
       "slide_type": "slide"
      }
     },
     "source": [
      "#### $A$ $naiveMIDEA$ $Python$ $Implementation$\n",
      "## $Advanced$ $Topics$ $in$ $Evolutionary$ $Computation$\n",
      "#### $Cesar$ $Revelo$, [LIRA](http://www.ele.puc-rio.br)/[DEE](http://www.ele.puc-rio.br)/[PUC-Rio](http://www.puc-rio.br)\n",
      "\n",
      "Matricula: 1322095; [ing.reve@ele.puc-rio.br](mailto:ing.reve@ele.puc-rio.br)\n",
      "\n",
      "[Advanced Evolutionary Computation: Theory and Practice](http://lmarti.com/aec-2014)\n",
      "<img src='http://www.puc-rio.br/sobrepuc/admin/vrd/brasao/download/ass_vertpb_reduz4.jpg' align='left'/>"
     ]
    },
    {
     "cell_type": "markdown",
     "metadata": {},
     "source": [
      "<img src='http://upload.wikimedia.org/wikipedia/commons/1/1b/Bivariate_example.png' align='center'/>"
     ]
    },
    {
     "cell_type": "markdown",
     "metadata": {},
     "source": [
      "The general adventage of mixture probability distributions is that a larger calss of dependency relations between the random variables can be expressed than when using non-mixture probability distributions since a mixture probability distribution makes a combination of multiple probability distributions. "
     ]
    },
    {
     "cell_type": "markdown",
     "metadata": {
      "internals": {
       "slide_type": "subslide"
      },
      "slideshow": {
       "slide_type": "slide"
      }
     },
     "source": [
      "Estimation of distribution algoithms (EDAs) are a class of evolutionary algorithms that build at each generation a probabilistic model from the selected solutions. "
     ]
    },
    {
     "cell_type": "markdown",
     "metadata": {},
     "source": [
      "###$Multiobjective$ $optimization$ $(Pareto$ $optimal$ $front)$"
     ]
    },
    {
     "cell_type": "markdown",
     "metadata": {
      "internals": {
       "frag_number": 2,
       "slide_helper": "subslide_end"
      },
      "slide_helper": "slide_end",
      "slideshow": {
       "slide_type": "notes"
      }
     },
     "source": [
      "<img src='http://www.scielo.br/img/revistas/pope/2012nahead/2612fig02.jpg' align='center'/>"
     ]
    },
    {
     "cell_type": "markdown",
     "metadata": {},
     "source": [
      "Solutions to be as close to the Pareto optimal front as possible, and a good diverse representationof the Pareto optimal front. "
     ]
    },
    {
     "cell_type": "markdown",
     "metadata": {},
     "source": [
      "##$The$ $naiveMIDEA$"
     ]
    },
    {
     "cell_type": "markdown",
     "metadata": {
      "internals": {
       "slide_helper": "subslide_end",
       "slide_type": "subslide"
      },
      "slide_helper": "subslide_end",
      "slideshow": {
       "slide_type": "slide"
      }
     },
     "source": [
      "###$Initialize$ $a$ $Population$ $(Decision$ $Space)$"
     ]
    },
    {
     "cell_type": "code",
     "collapsed": false,
     "input": [
      "pop = toolbox.population(n=400)\n",
      "invalid_ind = [ind for ind in pop if not ind.fitness.valid]\n",
      "fitnesses = toolbox.map(toolbox.evaluate, invalid_ind)\n",
      "for ind, fit in zip(invalid_ind, fitnesses):\n",
      "    ind.fitness.values = fit    \n",
      "    pop_inicial = np.asarray(fitnesses)"
     ],
     "language": "python",
     "metadata": {
      "internals": {
       "slide_helper": "subslide_end"
      },
      "slide_helper": "slide_end",
      "slideshow": {
       "slide_type": "-"
      }
     },
     "outputs": [],
     "prompt_number": 9
    },
    {
     "cell_type": "code",
     "collapsed": false,
     "input": [
      "population, pareto_sel, clusters_OS, clusters_DS, PDF_est = estMPDnMIDEA(pop, 0.3, 4)\n",
      "\n",
      "invalid_ind = [ind for ind in pareto_sel if not ind.fitness.valid]\n",
      "fitnesses = toolbox.map(toolbox.evaluate, invalid_ind)\n",
      "for ind, fit in zip(invalid_ind, fitnesses):\n",
      "    ind.fitness.values = fit"
     ],
     "language": "python",
     "metadata": {
      "internals": {
       "frag_helper": "fragment_end",
       "frag_number": 15,
       "slide_type": "subslide"
      },
      "slideshow": {
       "slide_type": "slide"
      }
     },
     "outputs": [],
     "prompt_number": 10
    },
    {
     "cell_type": "markdown",
     "metadata": {
      "internals": {
       "frag_helper": "fragment_end",
       "frag_number": 13,
       "slide_helper": "subslide_end",
       "slide_type": "subslide"
      },
      "slide_helper": "subslide_end",
      "slideshow": {
       "slide_type": "slide"
      }
     },
     "source": [
      "###$Select$ $\\tau$$N$ $Solutions$ $(Pareto$ $Dominance)$"
     ]
    },
    {
     "cell_type": "code",
     "collapsed": false,
     "input": [
      "pareto_solutions = np.asarray([ind.fitness.values for ind in pareto_sel])\n",
      "\n",
      "f = plt.figure(num = 1, figsize = (16, 7), dpi = 500)\n",
      "f.suptitle('$naive MIDEA$ $Selection$ $Operator$ ($Objective$ $Space$)', fontsize=16)\n",
      "\n",
      "ax1 = plt.subplot(121)\n",
      "ax1.set_title('$Initial$ $Population$')\n",
      "ax1.plot(pop_inicial[:,0], pop_inicial[:,1], '.b') \n",
      "\n",
      "ax2 = plt.subplot(122)\n",
      "ax2.set_title('$Selection$ $Population$')\n",
      "ax2.plot(pareto_solutions[:,0], pareto_solutions[:,1], '.r') "
     ],
     "language": "python",
     "metadata": {
      "internals": {
       "slide_helper": "subslide_end",
       "slide_type": "subslide"
      },
      "slide_helper": "slide_end",
      "slideshow": {
       "slide_type": "subslide"
      }
     },
     "outputs": [
      {
       "metadata": {},
       "output_type": "pyout",
       "prompt_number": 11,
       "text": [
        "[<matplotlib.lines.Line2D at 0x7f2e65bddc50>]"
       ]
      },
      {
       "metadata": {},
       "output_type": "display_data",
       "png": "[encoded data removed]",
       "text": [
        "<matplotlib.figure.Figure at 0x7f2e65f3c190>"
       ]
      }
     ],
     "prompt_number": 11
    },
    {
     "cell_type": "markdown",
     "metadata": {
      "internals": {
       "slide_helper": "subslide_end",
       "slide_type": "subslide"
      },
      "slide_helper": "subslide_end",
      "slideshow": {
       "slide_type": "slide"
      }
     },
     "source": [
      "###$Clustering$ $Process$ $(Leader$ $Algorithm)$ "
     ]
    },
    {
     "cell_type": "code",
     "collapsed": false,
     "input": [
      "f = plt.figure(num = 2, figsize = (16, 7), dpi = 500)\n",
      "f.suptitle('$naive MIDEA$ $Clustering$ $Process$ ($Objective$ $Space$)', fontsize=16)\n",
      "\n",
      "ax1 = plt.subplot(121)\n",
      "ax1.set_title('$Selection$ $Population$')\n",
      "ax1.plot(pareto_solutions[:,0], pareto_solutions[:,1], '.r') \n",
      "\n",
      "\n",
      "c1 = np.asarray(clusters_OS[0])\n",
      "c2 = np.asarray(clusters_OS[1])\n",
      "c3 = np.asarray(clusters_OS[2])\n",
      "c4 = np.asarray(clusters_OS[3])\n",
      "\n",
      "ax2 = plt.subplot(122)\n",
      "ax2.set_title('$Clusteing$ ($Leader$ $Algorithm$)')\n",
      "ax2.plot(c1[:,0],c1[:,1],'.b',\n",
      "         c2[:,0],c2[:,1],'.y',\n",
      "         c3[:,0],c3[:,1],'.m',\n",
      "         c4[:,0],c4[:,1],'.c') "
     ],
     "language": "python",
     "metadata": {
      "internals": {
       "slide_helper": "subslide_end",
       "slide_type": "subslide"
      },
      "slide_helper": "slide_end",
      "slideshow": {
       "slide_type": "subslide"
      }
     },
     "outputs": [
      {
       "metadata": {},
       "output_type": "pyout",
       "prompt_number": 12,
       "text": [
        "[<matplotlib.lines.Line2D at 0x7f2e65b181d0>,\n",
        " <matplotlib.lines.Line2D at 0x7f2e65b18490>,\n",
        " <matplotlib.lines.Line2D at 0x7f2e65b58710>,\n",
        " <matplotlib.lines.Line2D at 0x7f2e65b4d890>]"
       ]
      },
      {
       "metadata": {},
       "output_type": "display_data",
       "png": "[encoded data removed]",
       "text": [
        "<matplotlib.figure.Figure at 0x7f2e65ba06d0>"
       ]
      }
     ],
     "prompt_number": 12
    },
    {
     "cell_type": "markdown",
     "metadata": {
      "internals": {
       "slide_helper": "subslide_end",
       "slide_type": "subslide"
      },
      "slide_helper": "subslide_end",
      "slideshow": {
       "slide_type": "slide"
      }
     },
     "source": [
      "###$Estimate$ $Mixture$ $PDF$ $for$ $each$ $variable$ "
     ]
    },
    {
     "cell_type": "code",
     "collapsed": false,
     "input": [
      "A = clusters_DS[1]\n",
      "prob_variables = [[fila[j] for fila in A] for j in range(len(A[0]))]\n",
      "\n",
      "P1 = prob_variables[0]\n",
      "P2 = prob_variables[1]\n",
      "P3 = prob_variables[2]\n",
      "P4 = prob_variables[3]\n",
      "P5 = prob_variables[4]\n",
      "P6 = prob_variables[5]\n",
      "\n",
      "\n",
      "mu1 = PDF_est[1][0][0]\n",
      "sig1 = PDF_est[1][0][1] \n",
      "\n",
      "mu2 = PDF_est[1][1][0]\n",
      "sig2 = PDF_est[1][1][1] \n",
      "\n",
      "mu3 = PDF_est[1][2][0]\n",
      "sig3 = PDF_est[1][2][1] \n",
      "\n",
      "mu4 = PDF_est[1][3][0]\n",
      "sig4 = PDF_est[1][3][1] \n",
      "\n",
      "mu5 = PDF_est[1][4][0]\n",
      "sig5 = PDF_est[1][4][1] \n",
      "\n",
      "mu6 = PDF_est[1][5][0]\n",
      "sig6 = PDF_est[1][5][1] "
     ],
     "language": "python",
     "metadata": {
      "internals": {
       "frag_helper": "fragment_end",
       "frag_number": 15,
       "slide_helper": "subslide_end",
       "slide_type": "subslide"
      },
      "slide_helper": "subslide_end",
      "slideshow": {
       "slide_type": "subslide"
      }
     },
     "outputs": [],
     "prompt_number": 13
    },
    {
     "cell_type": "code",
     "collapsed": false,
     "input": [
      "plt.figure(1, figsize=(14,10))\n",
      "\n",
      "plt.subplot(231)\n",
      "plot_normal_sample(P1, mu1, sig1)\n",
      "plt.title('$Mixture$ $PDF$ $variable$ $1$ $cluster1$')\n",
      "\n",
      "plt.subplot(232)\n",
      "plot_normal_sample(P2, mu2, sig2)\n",
      "plt.title('$Mixture$ $PDF$ $variable$ $2$ $cluster1$')\n",
      "\n",
      "plt.subplot(233)\n",
      "plot_normal_sample(P3, mu3, sig3)\n",
      "plt.title('$Mixture$ $PDF$ $variable$ $3$ $cluster1$')\n",
      "\n",
      "plt.subplot(234)\n",
      "plot_normal_sample(P4, mu4, sig4)\n",
      "plt.title('$Mixture$ $PDF$ $variable$ $4$ $cluster1$')\n",
      "\n",
      "plt.subplot(235)\n",
      "plot_normal_sample(P5, mu5, sig5)\n",
      "plt.title('$Mixture$ $PDF$ $variable$ $5$ $cluster1$')\n",
      "\n",
      "plt.subplot(236)\n",
      "plot_normal_sample(P6, mu6, sig6)\n",
      "plt.title('$Mixture$ $PDF$ $variable$ $6$ $cluster1$')\n",
      "plt.tight_layout()\n"
     ],
     "language": "python",
     "metadata": {
      "internals": {
       "frag_helper": "fragment_end",
       "frag_number": 15,
       "slide_helper": "subslide_end",
       "slide_type": "subslide"
      },
      "slide_helper": "slide_end",
      "slideshow": {
       "slide_type": "subslide"
      }
     },
     "outputs": [
      {
       "metadata": {},
       "output_type": "display_data",
       "png": "[encoded data removed]",
       "text": [
        "<matplotlib.figure.Figure at 0x7f2e65f46150>"
       ]
      }
     ],
     "prompt_number": 14
    },
    {
     "cell_type": "markdown",
     "metadata": {
      "internals": {
       "slide_helper": "subslide_end",
       "slide_type": "subslide"
      },
      "slide_helper": "subslide_end",
      "slideshow": {
       "slide_type": "slide"
      }
     },
     "source": [
      "#$ZDT1$ $naive$ $MIDEA$ $test$ $problem$ "
     ]
    },
    {
     "cell_type": "code",
     "collapsed": false,
     "input": [
      "Image(url='naiveMIDEA Algorithm Progress(ZDT1).gif')"
     ],
     "language": "python",
     "metadata": {
      "internals": {
       "slide_helper": "subslide_end",
       "slide_type": "subslide"
      },
      "slide_helper": "subslide_end",
      "slideshow": {
       "slide_type": "subslide"
      }
     },
     "outputs": [],
     "prompt_number": 243
    },
    {
     "cell_type": "markdown",
     "metadata": {
      "internals": {
       "slide_helper": "subslide_end",
       "slide_type": "subslide"
      },
      "slide_helper": "subslide_end",
      "slideshow": {
       "slide_type": "subslide"
      }
     },
     "source": [
      "#$ZDT2$ $naive$ $MIDEA$ $test$ $problem$ "
     ]
    },
    {
     "cell_type": "code",
     "collapsed": false,
     "input": [
      "Image(url='naiveMIDEA Algorithm Progress(ZDT2).gif')"
     ],
     "language": "python",
     "metadata": {
      "internals": {
       "slide_helper": "subslide_end",
       "slide_type": "subslide"
      },
      "slide_helper": "slide_end",
      "slideshow": {
       "slide_type": "subslide"
      }
     },
     "outputs": [],
     "prompt_number": 243
    },
    {
     "cell_type": "markdown",
     "metadata": {
      "internals": {
       "slide_helper": "subslide_end",
       "slide_type": "subslide"
      },
      "slide_helper": "subslide_end",
      "slideshow": {
       "slide_type": "slide"
      }
     },
     "source": [
      "#$ZDT3$ $naive$ $MIDEA$ $test$ $problem$ "
     ]
    },
    {
     "cell_type": "code",
     "collapsed": false,
     "input": [
      "Image(url='naiveMIDEA Algorithm Progress(ZDT3).gif')"
     ],
     "language": "python",
     "metadata": {
      "internals": {
       "slide_helper": "subslide_end",
       "slide_type": "subslide"
      },
      "slide_helper": "slide_end",
      "slideshow": {
       "slide_type": "subslide"
      }
     },
     "outputs": [],
     "prompt_number": 243
    },
    {
     "cell_type": "code",
     "collapsed": false,
     "input": [
      "def main_naiveMIDEA(seed, NGEN, MU, tau, k):\n",
      "    random.seed(seed)\n",
      "\n",
      "    # Objects that will compile the best front and its hypervolume at each iteration\n",
      "    objetive_space_values = np.ndarray((NGEN,MU,2))\n",
      "    hypervolume_front = np.ndarray((NGEN,1)) \n",
      "    \n",
      "    # Objects that will compile the Convergence and Diversity metrics for the best front at each iteration\n",
      "    conver_metric = np.ndarray((NGEN,1))\n",
      "    diver_metric = np.ndarray((NGEN,1))\n",
      "    \n",
      "    # Random parent population (Initial population)\n",
      "    pop = toolbox.population(n=MU)\n",
      "    \n",
      "    # Evaluate the individuals with an invalid fitness\n",
      "    invalid_ind = [ind for ind in pop if not ind.fitness.valid]\n",
      "    fitnesses = toolbox.map(toolbox.evaluate, invalid_ind)\n",
      "    for ind, fit in zip(invalid_ind, fitnesses):\n",
      "        ind.fitness.values = fit\n",
      "            \n",
      "    # Assign the first object values (best front and Hypervolume)\n",
      "    front = np.array([ind.fitness.values for ind in pop])\n",
      "    objetive_space_values[0, :MU, :2] = front\n",
      "    referencePoint = [11.0, 11.0]\n",
      "    hv = HyperVolume(referencePoint)\n",
      "    hypervolume_front[0] = hv.compute(front)\n",
      "    \n",
      "    # Assign the first Convergence and Diversity values \n",
      "    pop_copy = copy.copy(pop)\n",
      "    pop_copy.sort(key=lambda x: x.fitness.values)\n",
      "    conver_metric[0] = convergence(pop_copy, optimal_front)\n",
      "    diver_metric[0] = diversity(pop_copy, optimal_front[0], optimal_front[-1])\n",
      "    \n",
      "    # Begin the generational process\n",
      "    for gen in range(1, NGEN):\n",
      "        \n",
      "        print gen\n",
      "        # Make set of new offspring\n",
      "        offspring, pareto_sel, clusters_OS, clusters_DS, PDF_est = estMPDnMIDEA(pop, tau, k)        \n",
      "        # Evaluate the individuals with an invalid fitness\n",
      "        invalid_ind = [ind for ind in offspring]# if not ind.fitness.valid]\n",
      "        fitnesses = toolbox.map(toolbox.evaluate, invalid_ind)\n",
      "        for ind, fit in zip(invalid_ind, fitnesses):\n",
      "            ind.fitness.values = fit\n",
      "            \n",
      "        # Select the next generation population\n",
      "        pop = copy.deepcopy(offspring)\n",
      "        \n",
      "        # Save data along the evolution progress (objetive space and Hypervolume for the best front values)  \n",
      "        front = np.array([ind.fitness.values for ind in pop])\n",
      "        objetive_space_values[gen, :MU, :2] = front\n",
      "        referencePoint = [11.0, 11.0]\n",
      "        hv = HyperVolume(referencePoint)\n",
      "        hypervolume_front[gen] = hv.compute(front)\n",
      "        \n",
      "        # Save data along the evolution progress (Convergence and Diversity values for the current best front)\n",
      "        pop_copy = copy.copy(pop)\n",
      "        pop_copy.sort(key=lambda x: x.fitness.values)\n",
      "        conver_metric[gen] = convergence(pop_copy, optimal_front)\n",
      "        diver_metric[gen] = diversity(pop_copy, optimal_front[0], optimal_front[-1])\n",
      "            \n",
      "    return objetive_space_values, hypervolume_front, conver_metric, diver_metric"
     ],
     "language": "python",
     "metadata": {
      "internals": {
       "frag_helper": "fragment_end",
       "frag_number": 15,
       "slide_helper": "subslide_end",
       "slide_type": "subslide"
      },
      "slide_helper": "slide_end",
      "slideshow": {
       "slide_type": "slide"
      }
     },
     "outputs": [],
     "prompt_number": 49
    },
    {
     "cell_type": "code",
     "collapsed": false,
     "input": [
      "def animate_naiveMIDEA_Algorithm(gen):\n",
      "    ax1.cla()\n",
      "    ax2.cla()\n",
      "    ax3.cla()\n",
      "    ax4.cla()\n",
      "     \n",
      "    # Set titles of subplots\n",
      "    ax1.set_title('$Pareto$ $front$ $progress$ $at$ $t=$' +str(gen))\n",
      "    ax2.set_title('$Relative$ $Hypervolume$ $progress$ $at$ $t=$ '+str(gen))\n",
      "    ax3.set_title('$Convergence$ $front$ $progress$ $at$ $t=$' +str(gen))\n",
      "    ax4.set_title('$Diversity$ $front$ $progress$ $at$ $t=$ '+str(gen))\n",
      "\n",
      "    # set y-limits\n",
      "    # ax1.set_ylim((round(min(objetive_space_values[-1,:,1])),round(max(objetive_space_values[0,:,1]))+5))\n",
      "    ax2.set_ylim((int(min(hypervolume_front)),int(max(hypervolume_front))+10))\n",
      "    ax3.set_ylim(0.0001,1000)\n",
      "    #ax3.set_ylim((int(min(conver_metric)),int(max(conver_metric))+1))\n",
      "    ax4.set_ylim((int(min(diver_metric)),int(max(diver_metric))+1))\n",
      "    \n",
      "    # sex x-limits\n",
      "    #ax1.set_xlim((int(min(objetive_space_values[0,:,0])),round(max(objetive_space_values[0,:,0]))))\n",
      "    ax2.set_xlim(0,NGEN)\n",
      "    ax3.set_xlim(0,NGEN)\n",
      "    ax4.set_xlim(0,NGEN)\n",
      "    \n",
      "    # Turn on grids\n",
      "    ax1.grid()\n",
      "    ax2.grid()\n",
      "    ax3.grid()\n",
      "    ax4.grid()\n",
      "    \n",
      "    # set label names\n",
      "    ax1.set_xlabel('$f1$')\n",
      "    ax1.set_ylabel('$f2$')\n",
      "    ax2.set_xlabel('$Generation$')\n",
      "    ax2.set_ylabel('$Relative$ $Hypervolume$')\n",
      "    ax3.set_xlabel('$Generation$')\n",
      "    ax3.set_ylabel('$Convergence$ $front$')\n",
      "    ax4.set_xlabel('$Generation$')\n",
      "    ax4.set_ylabel('$Diversity$ $front$')\n",
      "\n",
      "    # set plots\n",
      "    front = objetive_space_values[gen]\n",
      "    #ax2.scatter(front[:,0], front[:,1], c=\"b\") # ,label=\"\"\n",
      "    ax1.plot(front[:,0], front[:,1], '.', color = \"b\", ms=5, markeredgecolor = 'none') # ,label=\"Actual Front\" \n",
      "    x = list(range(0,gen,1))\n",
      "    ax2.plot(x, hypervolume_front[:gen], \"-r\") # ,label=\"\"\n",
      "    ax3.semilogy(x, conver_metric[:gen], \"-r\") # ,label=\"\"\n",
      "    #ax3.plot(x, conver_metric[:gen], \"-r\") # ,label=\"\"\n",
      "    ax4.plot(x, diver_metric[:gen], \"-r\") # ,label=\"\"\n",
      "    \n",
      "    # set lagends\n",
      "    #ax1.legend([p11,p12], [p11.get_label(),p12.get_label()])\n",
      "    #ax2.legend([p21,p22], [p21.get_label(),p22.get_label()])\n",
      "    #ax3.legend([p31,p32], [p31.get_label(),p32.get_label()])\n",
      "    #ax4.legend([p41,p42], [p41.get_label(),p42.get_label()])"
     ],
     "language": "python",
     "metadata": {
      "internals": {
       "frag_helper": "fragment_end",
       "frag_number": 15,
       "slide_helper": "subslide_end",
       "slide_type": "subslide"
      },
      "slide_helper": "slide_end",
      "slideshow": {
       "slide_type": "slide"
      }
     },
     "outputs": [],
     "prompt_number": 21
    },
    {
     "cell_type": "code",
     "collapsed": false,
     "input": [
      "# Open a previously stored true Pareto Front data set\n",
      "with open(\"lib/python2.7/json/pareto_front/problem5_front.json\") as optimal_front_data:\n",
      "    optimal_front = json.load(optimal_front_data)\n",
      "    # Use only half of data points\n",
      "    optimal_front = sorted(optimal_front[i] for i in range(0, len(optimal_front), 2))"
     ],
     "language": "python",
     "metadata": {
      "internals": {
       "frag_helper": "fragment_end",
       "frag_number": 15,
       "slide_helper": "subslide_end",
       "slide_type": "subslide"
      },
      "slide_helper": "slide_end",
      "slideshow": {
       "slide_type": "slide"
      }
     },
     "outputs": [],
     "prompt_number": 36
    },
    {
     "cell_type": "heading",
     "level": 1,
     "metadata": {
      "internals": {
       "frag_helper": "fragment_end",
       "frag_number": 15,
       "slide_helper": "subslide_end",
       "slide_type": "subslide"
      },
      "slide_helper": "slide_end",
      "slideshow": {
       "slide_type": "slide"
      }
     },
     "source": [
      "$Configuration$ $and$ $Execution$"
     ]
    },
    {
     "cell_type": "code",
     "collapsed": false,
     "input": [
      "#Random initialization seed\n",
      "seed = None\n",
      "\n",
      "#Number of Generations\n",
      "NGEN = 600\n",
      "\n",
      "#Number of Individuals in Population\n",
      "MU = 300\n",
      "\n",
      "#Threshold param  \n",
      "tau = 0.4\n",
      "\n",
      "#Number of clusters at objective space solutions\n",
      "k = 4\n",
      "\n",
      "# Execution Algorithm\n",
      "objetive_space_values, hypervolume_front, conver_metric, diver_metric = main_naiveMIDEA(seed, NGEN, MU, tau, k)"
     ],
     "language": "python",
     "metadata": {
      "internals": {
       "frag_helper": "fragment_end",
       "frag_number": 15,
       "slide_helper": "subslide_end",
       "slide_type": "subslide"
      },
      "slide_helper": "slide_end",
      "slideshow": {
       "slide_type": "slide"
      }
     },
     "outputs": [],
     "prompt_number": 0
    },
    {
     "cell_type": "code",
     "collapsed": false,
     "input": [
      "# Plot title size calibration\n",
      "font = {'size': 12}\n",
      "matplotlib.rc('font', **font)\n",
      "\n",
      "# Setup figure and subplots\n",
      "f = plt.figure(num = 0, figsize = (14, 14), dpi = 500)\n",
      "f.suptitle('$naiveMIDEA$ $Algorithm$ $Progress$ $for$ $WFG1$ $Test$ $Problem$', fontsize=12)\n",
      "ax1 = subplot2grid((2, 2), (0, 0))\n",
      "ax2 = subplot2grid((2, 2), (0, 1))\n",
      "ax3 = subplot2grid((2, 2), (1, 0))\n",
      "ax4 = subplot2grid((2, 2), (1, 1))\n",
      "\n",
      "# Run animation\n",
      "f.gca()\n",
      "#animation.FuncAnimation(f, animate_naiveMIDEA_Algorithm, frames=100, interval=150, blit=True)\n",
      "anim = animation.FuncAnimation(f, animate_naiveMIDEA_Algorithm, frames=600, interval=200, blit=True)\n",
      "# Save animation\n",
      "anim.save('naiveMIDEA Algorithm Progress(WFG1).gif', writer='imagemagick')"
     ],
     "language": "python",
     "metadata": {
      "internals": {
       "frag_helper": "fragment_end",
       "frag_number": 15,
       "slide_helper": "subslide_end",
       "slide_type": "subslide"
      },
      "slide_helper": "slide_end",
      "slideshow": {
       "slide_type": "slide"
      }
     },
     "outputs": [],
     "prompt_number": 14
    }
   ],
   "metadata": {}
  }
 ]
}
